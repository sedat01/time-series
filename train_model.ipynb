import yfinance
from pycaret import regression
import pandas as pd


with open ("s&p_500_symbols.txt","r",encoding="utf-8") as f:
    assets = f.readlines()
    
stock_data = yfinance.download(assets, period="5y",threads=False)
stock_data_df = pd.DataFrame(stock_data)
stock_data_df.to_csv("stock_data.csv")