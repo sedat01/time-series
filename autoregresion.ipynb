{
 "cells": [
  {
   "cell_type": "code",
   "execution_count": 11,
   "metadata": {},
   "outputs": [
    {
     "name": "stdout",
     "output_type": "stream",
     "text": [
      "Coefficients: [ 5.54675509e-01  5.88626434e-01 -9.08625646e-02  4.79113699e-02\n",
      "  4.05455412e-02  3.89006134e-02  2.68261674e-02  4.43330303e-02\n",
      "  1.27693890e-02  3.74827042e-02 -8.70653192e-04  4.13881685e-03\n",
      "  1.90238804e-02  2.63222728e-02  1.21637515e-04  2.50610458e-02\n",
      "  7.17245384e-03  1.05980436e-02  3.45274786e-02 -8.36526688e-03\n",
      "  2.42040280e-02  1.91951931e-02  1.17830915e-02 -1.84038777e-02\n",
      " -2.19275887e-03  1.68162294e-02  2.04248744e-02  8.42931168e-03\n",
      "  6.70641474e-03 -1.52384382e-03]\n"
     ]
    },
    {
     "name": "stderr",
     "output_type": "stream",
     "text": [
      "C:\\Users\\sedat\\AppData\\Local\\Temp\\ipykernel_22108\\1652761188.py:8: FutureWarning: The squeeze argument has been deprecated and will be removed in a future version. Append .squeeze(\"columns\") to the call to squeeze.\n",
      "\n",
      "\n",
      "  series = read_csv('temps.csv', header=0, index_col=0, parse_dates=True, squeeze=True)\n"
     ]
    },
    {
     "ename": "ValueError",
     "evalue": "Prediction must have `end` after `start`.",
     "output_type": "error",
     "traceback": [
      "\u001b[1;31m---------------------------------------------------------------------------\u001b[0m",
      "\u001b[1;31mValueError\u001b[0m                                Traceback (most recent call last)",
      "\u001b[1;32mc:\\Projects\\time-series\\autoregresion.ipynb Cell 1\u001b[0m in \u001b[0;36m<cell line: 17>\u001b[1;34m()\u001b[0m\n\u001b[0;32m     <a href='vscode-notebook-cell:/c%3A/Projects/time-series/autoregresion.ipynb#W0sZmlsZQ%3D%3D?line=14'>15</a>\u001b[0m \u001b[39mprint\u001b[39m(\u001b[39m'\u001b[39m\u001b[39mCoefficients: \u001b[39m\u001b[39m%s\u001b[39;00m\u001b[39m'\u001b[39m \u001b[39m%\u001b[39m model_fit\u001b[39m.\u001b[39mparams)\n\u001b[0;32m     <a href='vscode-notebook-cell:/c%3A/Projects/time-series/autoregresion.ipynb#W0sZmlsZQ%3D%3D?line=15'>16</a>\u001b[0m \u001b[39m# make predictions\u001b[39;00m\n\u001b[1;32m---> <a href='vscode-notebook-cell:/c%3A/Projects/time-series/autoregresion.ipynb#W0sZmlsZQ%3D%3D?line=16'>17</a>\u001b[0m predictions \u001b[39m=\u001b[39m model_fit\u001b[39m.\u001b[39;49mpredict(start\u001b[39m=\u001b[39;49m\u001b[39mlen\u001b[39;49m(train), dynamic\u001b[39m=\u001b[39;49m\u001b[39mFalse\u001b[39;49;00m)\n\u001b[0;32m     <a href='vscode-notebook-cell:/c%3A/Projects/time-series/autoregresion.ipynb#W0sZmlsZQ%3D%3D?line=17'>18</a>\u001b[0m \u001b[39mfor\u001b[39;00m i \u001b[39min\u001b[39;00m \u001b[39mrange\u001b[39m(\u001b[39mlen\u001b[39m(predictions)):\n\u001b[0;32m     <a href='vscode-notebook-cell:/c%3A/Projects/time-series/autoregresion.ipynb#W0sZmlsZQ%3D%3D?line=18'>19</a>\u001b[0m  \u001b[39mprint\u001b[39m(\u001b[39m'\u001b[39m\u001b[39mpredicted=\u001b[39m\u001b[39m%f\u001b[39;00m\u001b[39m, expected=\u001b[39m\u001b[39m%f\u001b[39;00m\u001b[39m'\u001b[39m \u001b[39m%\u001b[39m (predictions[i], test[i]))\n",
      "File \u001b[1;32mc:\\Users\\sedat\\anaconda3\\envs\\finpred\\lib\\site-packages\\statsmodels\\base\\wrapper.py:113\u001b[0m, in \u001b[0;36mmake_wrapper.<locals>.wrapper\u001b[1;34m(self, *args, **kwargs)\u001b[0m\n\u001b[0;32m    111\u001b[0m     obj \u001b[39m=\u001b[39m data\u001b[39m.\u001b[39mwrap_output(func(results, \u001b[39m*\u001b[39margs, \u001b[39m*\u001b[39m\u001b[39m*\u001b[39mkwargs), how[\u001b[39m0\u001b[39m], how[\u001b[39m1\u001b[39m:])\n\u001b[0;32m    112\u001b[0m \u001b[39melif\u001b[39;00m how:\n\u001b[1;32m--> 113\u001b[0m     obj \u001b[39m=\u001b[39m data\u001b[39m.\u001b[39mwrap_output(func(results, \u001b[39m*\u001b[39margs, \u001b[39m*\u001b[39m\u001b[39m*\u001b[39mkwargs), how)\n\u001b[0;32m    114\u001b[0m \u001b[39mreturn\u001b[39;00m obj\n",
      "File \u001b[1;32mc:\\Users\\sedat\\anaconda3\\envs\\finpred\\lib\\site-packages\\statsmodels\\tsa\\ar_model.py:1281\u001b[0m, in \u001b[0;36mAutoRegResults.predict\u001b[1;34m(self, start, end, dynamic, exog, exog_oos)\u001b[0m\n\u001b[0;32m   1277\u001b[0m \u001b[39m@Appender\u001b[39m(remove_parameters(AutoReg\u001b[39m.\u001b[39mpredict\u001b[39m.\u001b[39m\u001b[39m__doc__\u001b[39m, \u001b[39m\"\u001b[39m\u001b[39mparams\u001b[39m\u001b[39m\"\u001b[39m))\n\u001b[0;32m   1278\u001b[0m \u001b[39mdef\u001b[39;00m \u001b[39mpredict\u001b[39m(\n\u001b[0;32m   1279\u001b[0m     \u001b[39mself\u001b[39m, start\u001b[39m=\u001b[39m\u001b[39mNone\u001b[39;00m, end\u001b[39m=\u001b[39m\u001b[39mNone\u001b[39;00m, dynamic\u001b[39m=\u001b[39m\u001b[39mFalse\u001b[39;00m, exog\u001b[39m=\u001b[39m\u001b[39mNone\u001b[39;00m, exog_oos\u001b[39m=\u001b[39m\u001b[39mNone\u001b[39;00m\n\u001b[0;32m   1280\u001b[0m ):\n\u001b[1;32m-> 1281\u001b[0m     \u001b[39mreturn\u001b[39;00m \u001b[39mself\u001b[39;49m\u001b[39m.\u001b[39;49mmodel\u001b[39m.\u001b[39;49mpredict(\n\u001b[0;32m   1282\u001b[0m         \u001b[39mself\u001b[39;49m\u001b[39m.\u001b[39;49m_params,\n\u001b[0;32m   1283\u001b[0m         start\u001b[39m=\u001b[39;49mstart,\n\u001b[0;32m   1284\u001b[0m         end\u001b[39m=\u001b[39;49mend,\n\u001b[0;32m   1285\u001b[0m         dynamic\u001b[39m=\u001b[39;49mdynamic,\n\u001b[0;32m   1286\u001b[0m         exog\u001b[39m=\u001b[39;49mexog,\n\u001b[0;32m   1287\u001b[0m         exog_oos\u001b[39m=\u001b[39;49mexog_oos,\n\u001b[0;32m   1288\u001b[0m     )\n",
      "File \u001b[1;32mc:\\Users\\sedat\\anaconda3\\envs\\finpred\\lib\\site-packages\\statsmodels\\tsa\\ar_model.py:759\u001b[0m, in \u001b[0;36mAutoReg.predict\u001b[1;34m(self, params, start, end, dynamic, exog, exog_oos)\u001b[0m\n\u001b[0;32m    706\u001b[0m \u001b[39mdef\u001b[39;00m \u001b[39mpredict\u001b[39m(\n\u001b[0;32m    707\u001b[0m     \u001b[39mself\u001b[39m,\n\u001b[0;32m    708\u001b[0m     params,\n\u001b[1;32m   (...)\u001b[0m\n\u001b[0;32m    713\u001b[0m     exog_oos\u001b[39m=\u001b[39m\u001b[39mNone\u001b[39;00m,\n\u001b[0;32m    714\u001b[0m ):\n\u001b[0;32m    715\u001b[0m     \u001b[39m\"\"\"\u001b[39;00m\n\u001b[0;32m    716\u001b[0m \u001b[39m    In-sample prediction and out-of-sample forecasting.\u001b[39;00m\n\u001b[0;32m    717\u001b[0m \n\u001b[1;32m   (...)\u001b[0m\n\u001b[0;32m    756\u001b[0m \u001b[39m        forecasts.\u001b[39;00m\n\u001b[0;32m    757\u001b[0m \u001b[39m    \"\"\"\u001b[39;00m\n\u001b[1;32m--> 759\u001b[0m     params, exog, exog_oos, start, end, num_oos \u001b[39m=\u001b[39m \u001b[39mself\u001b[39;49m\u001b[39m.\u001b[39;49m_prepare_prediction(\n\u001b[0;32m    760\u001b[0m         params, exog, exog_oos, start, end\n\u001b[0;32m    761\u001b[0m     )\n\u001b[0;32m    762\u001b[0m     \u001b[39mif\u001b[39;00m \u001b[39mself\u001b[39m\u001b[39m.\u001b[39mexog \u001b[39mis\u001b[39;00m \u001b[39mNone\u001b[39;00m \u001b[39mand\u001b[39;00m (exog \u001b[39mis\u001b[39;00m \u001b[39mnot\u001b[39;00m \u001b[39mNone\u001b[39;00m \u001b[39mor\u001b[39;00m exog_oos \u001b[39mis\u001b[39;00m \u001b[39mnot\u001b[39;00m \u001b[39mNone\u001b[39;00m):\n\u001b[0;32m    763\u001b[0m         \u001b[39mraise\u001b[39;00m \u001b[39mValueError\u001b[39;00m(\n\u001b[0;32m    764\u001b[0m             \u001b[39m\"\u001b[39m\u001b[39mexog and exog_oos cannot be used when the model \u001b[39m\u001b[39m\"\u001b[39m\n\u001b[0;32m    765\u001b[0m             \u001b[39m\"\u001b[39m\u001b[39mdoes not contains exogenous regressors.\u001b[39m\u001b[39m\"\u001b[39m\n\u001b[0;32m    766\u001b[0m         )\n",
      "File \u001b[1;32mc:\\Users\\sedat\\anaconda3\\envs\\finpred\\lib\\site-packages\\statsmodels\\tsa\\ar_model.py:682\u001b[0m, in \u001b[0;36mAutoReg._prepare_prediction\u001b[1;34m(self, params, exog, exog_oos, start, end)\u001b[0m\n\u001b[0;32m    680\u001b[0m start \u001b[39m=\u001b[39m \u001b[39m0\u001b[39m \u001b[39mif\u001b[39;00m start \u001b[39mis\u001b[39;00m \u001b[39mNone\u001b[39;00m \u001b[39melse\u001b[39;00m start\n\u001b[0;32m    681\u001b[0m end \u001b[39m=\u001b[39m \u001b[39mself\u001b[39m\u001b[39m.\u001b[39m_index[\u001b[39m-\u001b[39m\u001b[39m1\u001b[39m] \u001b[39mif\u001b[39;00m end \u001b[39mis\u001b[39;00m \u001b[39mNone\u001b[39;00m \u001b[39melse\u001b[39;00m end\n\u001b[1;32m--> 682\u001b[0m start, end, num_oos, _ \u001b[39m=\u001b[39m \u001b[39mself\u001b[39;49m\u001b[39m.\u001b[39;49m_get_prediction_index(start, end)\n\u001b[0;32m    683\u001b[0m \u001b[39mreturn\u001b[39;00m params, exog, exog_oos, start, end, num_oos\n",
      "File \u001b[1;32mc:\\Users\\sedat\\anaconda3\\envs\\finpred\\lib\\site-packages\\statsmodels\\tsa\\base\\tsa_model.py:834\u001b[0m, in \u001b[0;36mTimeSeriesModel._get_prediction_index\u001b[1;34m(self, start, end, index, silent)\u001b[0m\n\u001b[0;32m    778\u001b[0m \u001b[39m\"\"\"\u001b[39;00m\n\u001b[0;32m    779\u001b[0m \u001b[39mGet the location of a specific key in an index or model row labels\u001b[39;00m\n\u001b[0;32m    780\u001b[0m \n\u001b[1;32m   (...)\u001b[0m\n\u001b[0;32m    831\u001b[0m \u001b[39msince we have required them to be full indexes, there is no ambiguity).\u001b[39;00m\n\u001b[0;32m    832\u001b[0m \u001b[39m\"\"\"\u001b[39;00m\n\u001b[0;32m    833\u001b[0m nobs \u001b[39m=\u001b[39m \u001b[39mlen\u001b[39m(\u001b[39mself\u001b[39m\u001b[39m.\u001b[39mendog)\n\u001b[1;32m--> 834\u001b[0m \u001b[39mreturn\u001b[39;00m get_prediction_index(\n\u001b[0;32m    835\u001b[0m     start,\n\u001b[0;32m    836\u001b[0m     end,\n\u001b[0;32m    837\u001b[0m     nobs,\n\u001b[0;32m    838\u001b[0m     base_index\u001b[39m=\u001b[39;49m\u001b[39mself\u001b[39;49m\u001b[39m.\u001b[39;49m_index,\n\u001b[0;32m    839\u001b[0m     index\u001b[39m=\u001b[39;49mindex,\n\u001b[0;32m    840\u001b[0m     silent\u001b[39m=\u001b[39;49msilent,\n\u001b[0;32m    841\u001b[0m     index_none\u001b[39m=\u001b[39;49m\u001b[39mself\u001b[39;49m\u001b[39m.\u001b[39;49m_index_none,\n\u001b[0;32m    842\u001b[0m     index_generated\u001b[39m=\u001b[39;49m\u001b[39mself\u001b[39;49m\u001b[39m.\u001b[39;49m_index_generated,\n\u001b[0;32m    843\u001b[0m     data\u001b[39m=\u001b[39;49m\u001b[39mself\u001b[39;49m\u001b[39m.\u001b[39;49mdata,\n\u001b[0;32m    844\u001b[0m )\n",
      "File \u001b[1;32mc:\\Users\\sedat\\anaconda3\\envs\\finpred\\lib\\site-packages\\statsmodels\\tsa\\base\\tsa_model.py:387\u001b[0m, in \u001b[0;36mget_prediction_index\u001b[1;34m(start, end, nobs, base_index, index, silent, index_none, index_generated, data)\u001b[0m\n\u001b[0;32m    385\u001b[0m \u001b[39m# Validate prediction options\u001b[39;00m\n\u001b[0;32m    386\u001b[0m \u001b[39mif\u001b[39;00m end \u001b[39m<\u001b[39m start:\n\u001b[1;32m--> 387\u001b[0m     \u001b[39mraise\u001b[39;00m \u001b[39mValueError\u001b[39;00m(\u001b[39m\"\u001b[39m\u001b[39mPrediction must have `end` after `start`.\u001b[39m\u001b[39m\"\u001b[39m)\n\u001b[0;32m    389\u001b[0m \u001b[39m# Handle custom prediction index\u001b[39;00m\n\u001b[0;32m    390\u001b[0m \u001b[39m# First, if we were given an index, check that it's the right size and\u001b[39;00m\n\u001b[0;32m    391\u001b[0m \u001b[39m# use it if so\u001b[39;00m\n\u001b[0;32m    392\u001b[0m \u001b[39mif\u001b[39;00m index \u001b[39mis\u001b[39;00m \u001b[39mnot\u001b[39;00m \u001b[39mNone\u001b[39;00m:\n",
      "\u001b[1;31mValueError\u001b[0m: Prediction must have `end` after `start`."
     ]
    }
   ],
   "source": [
    "\n",
    "# create and evaluate a static autoregressive model\n",
    "from pandas import read_csv\n",
    "from matplotlib import pyplot\n",
    "from statsmodels.tsa.ar_model import AutoReg\n",
    "from sklearn.metrics import mean_squared_error\n",
    "from math import sqrt\n",
    "# load dataset\n",
    "series = read_csv('temps.csv', header=0, index_col=0, parse_dates=True, squeeze=True)\n",
    "# split dataset\n",
    "X = series.values\n",
    "train, test = X[1:len(X)-8], X[len(X)-6:]\n",
    "# train autoregression\n",
    "model = AutoReg(train, lags=29)\n",
    "model_fit = model.fit()\n",
    "print('Coefficients: %s' % model_fit.params)\n",
    "# make predictions\n",
    "predictions = model_fit.predict(start=len(train), dynamic=False)\n",
    "for i in range(len(predictions)):\n",
    " print('predicted=%f, expected=%f' % (predictions[i], test[i]))\n",
    "rmse = sqrt(mean_squared_error(test, predictions))\n",
    "print('Test RMSE: %.3f' % rmse)\n",
    "# plot results\n",
    "pyplot.plot(test)\n",
    "pyplot.plot(predictions, color='red')\n",
    "pyplot.show()"
   ]
  }
 ],
 "metadata": {
  "kernelspec": {
   "display_name": "finpred",
   "language": "python",
   "name": "python3"
  },
  "language_info": {
   "codemirror_mode": {
    "name": "ipython",
    "version": 3
   },
   "file_extension": ".py",
   "mimetype": "text/x-python",
   "name": "python",
   "nbconvert_exporter": "python",
   "pygments_lexer": "ipython3",
   "version": "3.10.0 | packaged by conda-forge | (default, Nov 10 2021, 13:20:59) [MSC v.1916 64 bit (AMD64)]"
  },
  "orig_nbformat": 4,
  "vscode": {
   "interpreter": {
    "hash": "9ca95c347505f2e9e50ef9651baf4787c70c29313878ef3bd7d028c89aa9046c"
   }
  }
 },
 "nbformat": 4,
 "nbformat_minor": 2
}
